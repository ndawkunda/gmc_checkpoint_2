{
 "cells": [
  {
   "cell_type": "code",
   "execution_count": 5,
   "id": "31762839",
   "metadata": {},
   "outputs": [
    {
     "name": "stdout",
     "output_type": "stream",
     "text": [
      "{1: 1, 2: 4, 3: 9, 4: 16, 5: 25, 6: 36, 7: 49, 8: 64}\n",
      "Error\n"
     ]
    }
   ],
   "source": [
    "dictionary = {}\n",
    "\n",
    "def dict_generator(n):\n",
    "    if n > 0:\n",
    "        for i in range(1, n+1):\n",
    "            dictionary[i] = i*i\n",
    "        return dictionary\n",
    "    else:\n",
    "        return \"Error\"\n",
    "\n",
    "print(dict_generator(8))\n",
    "print(dict_generator(-2))"
   ]
  },
  {
   "cell_type": "code",
   "execution_count": null,
   "id": "fa126a35",
   "metadata": {},
   "outputs": [],
   "source": []
  }
 ],
 "metadata": {
  "kernelspec": {
   "display_name": "Python 3 (ipykernel)",
   "language": "python",
   "name": "python3"
  },
  "language_info": {
   "codemirror_mode": {
    "name": "ipython",
    "version": 3
   },
   "file_extension": ".py",
   "mimetype": "text/x-python",
   "name": "python",
   "nbconvert_exporter": "python",
   "pygments_lexer": "ipython3",
   "version": "3.9.7"
  }
 },
 "nbformat": 4,
 "nbformat_minor": 5
}
