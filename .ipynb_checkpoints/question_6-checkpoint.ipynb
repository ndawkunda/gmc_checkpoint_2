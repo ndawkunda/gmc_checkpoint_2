{
 "cells": [
  {
   "cell_type": "code",
   "execution_count": 8,
   "id": "8239addc",
   "metadata": {},
   "outputs": [
    {
     "name": "stdout",
     "output_type": "stream",
     "text": [
      "[[ 1. -1.]\n",
      " [-1.  1.]]\n"
     ]
    }
   ],
   "source": [
    "import numpy as np\n",
    "\n",
    "def arrays_cov(a, b):\n",
    "    if isinstance(a, np.ndarray) and isinstance(b, np.ndarray):\n",
    "        return np.cov(a, b)\n",
    "    else:\n",
    "        return \"Error\"\n",
    "    \n",
    "y = np.array([0,1,2])\n",
    "z = np.array([2,1,0])\n",
    "\n",
    "print(arrays_cov(y, z))"
   ]
  },
  {
   "cell_type": "code",
   "execution_count": null,
   "id": "822c1dd5",
   "metadata": {},
   "outputs": [],
   "source": []
  }
 ],
 "metadata": {
  "kernelspec": {
   "display_name": "Python 3 (ipykernel)",
   "language": "python",
   "name": "python3"
  },
  "language_info": {
   "codemirror_mode": {
    "name": "ipython",
    "version": 3
   },
   "file_extension": ".py",
   "mimetype": "text/x-python",
   "name": "python",
   "nbconvert_exporter": "python",
   "pygments_lexer": "ipython3",
   "version": "3.9.7"
  }
 },
 "nbformat": 4,
 "nbformat_minor": 5
}
