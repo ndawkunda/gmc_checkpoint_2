{
 "cells": [
  {
   "cell_type": "code",
   "execution_count": 9,
   "id": "5b4189bf",
   "metadata": {},
   "outputs": [
    {
     "name": "stdout",
     "output_type": "stream",
     "text": [
      "[18, 22, 24]\n",
      "Error\n"
     ]
    }
   ],
   "source": [
    "import math\n",
    "\n",
    "def q(values):\n",
    "    if isinstance(values, list):\n",
    "        results = []\n",
    "        c = 50\n",
    "        h = 30\n",
    "        for d in values:\n",
    "            q = round(math.sqrt((2*c*d)/h))\n",
    "            results.append(q)\n",
    "        return results\n",
    "    else:\n",
    "        return \"Error\"\n",
    "    \n",
    "print(q([100,150,180]))\n",
    "print(q(50))"
   ]
  },
  {
   "cell_type": "code",
   "execution_count": null,
   "id": "7abb4bc7",
   "metadata": {},
   "outputs": [],
   "source": []
  }
 ],
 "metadata": {
  "kernelspec": {
   "display_name": "Python 3 (ipykernel)",
   "language": "python",
   "name": "python3"
  },
  "language_info": {
   "codemirror_mode": {
    "name": "ipython",
    "version": 3
   },
   "file_extension": ".py",
   "mimetype": "text/x-python",
   "name": "python",
   "nbconvert_exporter": "python",
   "pygments_lexer": "ipython3",
   "version": "3.9.7"
  }
 },
 "nbformat": 4,
 "nbformat_minor": 5
}
