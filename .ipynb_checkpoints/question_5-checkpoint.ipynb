{
 "cells": [
  {
   "cell_type": "code",
   "execution_count": 1,
   "id": "4515941f",
   "metadata": {},
   "outputs": [
    {
     "name": "stdout",
     "output_type": "stream",
     "text": [
      "[[0, 1], [2, 3], [4, 5]]\n"
     ]
    }
   ],
   "source": [
    "import numpy as np\n",
    "\n",
    "def nparray_to_list(a):\n",
    "    if isinstance(a, np.ndarray):\n",
    "        return a.tolist()\n",
    "    else:\n",
    "        return \"Error\"\n",
    "    \n",
    "z = np.array([[0,1],[2,3],[4,5]])\n",
    "print(nparray_to_list(z))"
   ]
  },
  {
   "cell_type": "code",
   "execution_count": null,
   "id": "29592af4",
   "metadata": {},
   "outputs": [],
   "source": []
  }
 ],
 "metadata": {
  "kernelspec": {
   "display_name": "Python 3 (ipykernel)",
   "language": "python",
   "name": "python3"
  },
  "language_info": {
   "codemirror_mode": {
    "name": "ipython",
    "version": 3
   },
   "file_extension": ".py",
   "mimetype": "text/x-python",
   "name": "python",
   "nbconvert_exporter": "python",
   "pygments_lexer": "ipython3",
   "version": "3.9.7"
  }
 },
 "nbformat": 4,
 "nbformat_minor": 5
}
