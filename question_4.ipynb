{
 "cells": [
  {
   "cell_type": "code",
   "execution_count": 6,
   "id": "4e6bb03a",
   "metadata": {},
   "outputs": [
    {
     "name": "stdout",
     "output_type": "stream",
     "text": [
      "Helo\n",
      "Error\n",
      "Error\n"
     ]
    }
   ],
   "source": [
    "def missing_char(string, n):\n",
    "    if string and (n in range(len(string))):\n",
    "        new_string = list(string)\n",
    "        del new_string[n]\n",
    "        new_string = \"\".join(new_string)\n",
    "        return print(new_string)\n",
    "                   \n",
    "    else:\n",
    "        return print(\"Error\")\n",
    "                   \n",
    "missing_char(\"Hello\", 2)\n",
    "missing_char(\"Hello\", 9)\n",
    "missing_char(\"\", 2)"
   ]
  }
 ],
 "metadata": {
  "kernelspec": {
   "display_name": "Python 3 (ipykernel)",
   "language": "python",
   "name": "python3"
  },
  "language_info": {
   "codemirror_mode": {
    "name": "ipython",
    "version": 3
   },
   "file_extension": ".py",
   "mimetype": "text/x-python",
   "name": "python",
   "nbconvert_exporter": "python",
   "pygments_lexer": "ipython3",
   "version": "3.9.7"
  }
 },
 "nbformat": 4,
 "nbformat_minor": 5
}
