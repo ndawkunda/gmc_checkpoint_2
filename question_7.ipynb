{
 "cells": [
  {
   "cell_type": "code",
   "execution_count": 4,
   "id": "5b4189bf",
   "metadata": {},
   "outputs": [
    {
     "name": "stdout",
     "output_type": "stream",
     "text": [
      "[18, 22, 24]\n",
      "Error\n"
     ]
    }
   ],
   "source": [
    "import math\n",
    "\n",
    "def Q(values):\n",
    "    if isinstance(values, list):\n",
    "        results = []\n",
    "        C = 50\n",
    "        H = 30\n",
    "        for D in values:\n",
    "            Q = round(math.sqrt((2*C*D)/H))\n",
    "            results.append(Q)\n",
    "        return results\n",
    "    else:\n",
    "        return \"Error\"\n",
    "    \n",
    "print(Q([100,150,180]))\n",
    "print(Q(50))"
   ]
  }
 ],
 "metadata": {
  "kernelspec": {
   "display_name": "Python 3 (ipykernel)",
   "language": "python",
   "name": "python3"
  },
  "language_info": {
   "codemirror_mode": {
    "name": "ipython",
    "version": 3
   },
   "file_extension": ".py",
   "mimetype": "text/x-python",
   "name": "python",
   "nbconvert_exporter": "python",
   "pygments_lexer": "ipython3",
   "version": "3.9.7"
  }
 },
 "nbformat": 4,
 "nbformat_minor": 5
}
